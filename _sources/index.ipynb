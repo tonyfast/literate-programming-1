{
 "cells": [
  {
   "cell_type": "markdown",
   "id": "b67b0291-0da9-4e73-ae9c-5bb9516255a4",
   "metadata": {},
   "source": [
    "# a workshop in with writing with code\n",
    "\n",
    "this course focuses on writing, reading, testing, publishing, styling, and yourself in markdown and notebooks. through this course we will become more familiar with JupyterLab as a literate computing interface.\n",
    "\n",
    "\n",
    "## workshop format\n",
    "\n",
    "the writers workshop syllabus is tuned an average 6 week track. generally though, participants may complete their works at their own pace. we do ask that you can devote at least two hours a week to this program.\n",
    "\n",
    "each week, we will have an hour long discussions around writing, and we will spend between an hour each week writing for ourselves. below is a high level list of topics we'll work through, the bulleted lists are prompts following each workshop.\n",
    "\n",
    "\n",
    "### levels of participation\n",
    "\n",
    "1. attend a six week writers workshop\n",
    "2. complete an independent study\n",
    "\n",
    "### workshop tracks\n",
    "\n",
    "1. general track\n",
    "2. topic track\n",
    "\n",
    "## get started\n",
    "\n",
    "fork this repo\n",
    "\n",
    "or \n",
    "\n",
    "    pip install writers-workshop"
   ]
  },
  {
   "cell_type": "markdown",
   "id": "2d2de682-182d-44df-a734-3ab6322f46d9",
   "metadata": {},
   "source": [
    "## building plans\n",
    "\n",
    "```{index} doit\n",
    "```\n",
    "\n",
    "for building our program we use `doit`"
   ]
  },
  {
   "cell_type": "code",
   "execution_count": 14,
   "id": "d1142e94-d5f9-499f-81f2-758ac10d42aa",
   "metadata": {},
   "outputs": [],
   "source": [
    "    import doit\n",
    "    from pathlib import Path"
   ]
  },
  {
   "cell_type": "code",
   "execution_count": 15,
   "id": "35812d39-00c8-4ac8-aa98-7faa36402cef",
   "metadata": {},
   "outputs": [],
   "source": [
    "    numerals = \", i ii iii iv v vi vi\".split()"
   ]
  },
  {
   "cell_type": "markdown",
   "id": "59e37bbe-ff51-4ef4-a21e-74a26282fb22",
   "metadata": {},
   "source": [
    "### build the foundation\n",
    "\n",
    "`initialize` the root directory."
   ]
  },
  {
   "cell_type": "code",
   "execution_count": 16,
   "id": "9386b540-2e13-4c5f-bd9f-8b2b3f92f379",
   "metadata": {},
   "outputs": [],
   "source": [
    "    def initialize(x):\n",
    "        x.mkdir(exist_ok=True, parents=True)\n",
    "        (x / \"readme.md\").touch()"
   ]
  },
  {
   "cell_type": "markdown",
   "id": "7b943711-afb1-4354-8bc0-f4fcefc15cab",
   "metadata": {},
   "source": [
    "### build the levels\n",
    "\n",
    "`initialize_package` creates the layout for the course, each week being a level of study. a convention we hold is that there probably should be a `readme`, naming is hard use `readme` or `index`. we discuss the [art of the readme] in depth in the last level, [level vi], of the program."
   ]
  },
  {
   "cell_type": "code",
   "execution_count": 17,
   "id": "0503711e-c1e8-4bee-8acd-a551cad6648a",
   "metadata": {},
   "outputs": [],
   "source": [
    "    def initialize_package(x):\n",
    "        initialize(x)\n",
    "\n",
    "        (x / \"pyproject.toml\").touch()\n",
    "        src = x / x.parts[-1]\n",
    "        src.mkdir(exist_ok=True, parents=True)\n",
    "        (src / \"__init__.py\").touch()"
   ]
  },
  {
   "cell_type": "markdown",
   "id": "86bcbf7f-2b5d-4008-bf64-a1ec59d9dd60",
   "metadata": {},
   "source": [
    "### assembly tasks\n",
    "\n",
    "our setup is overseen by the `doit` conventions. learn more about `doit` and task management in the publishing [level iv] of this program."
   ]
  },
  {
   "cell_type": "code",
   "execution_count": 18,
   "id": "a194c06f-b527-4f32-921f-a72638a41eab",
   "metadata": {},
   "outputs": [],
   "source": [
    "    def task_initialize():\n",
    "        root = Path(\"syllabus\")\n",
    "        yield dict(\n",
    "            name=\"root\",\n",
    "            actions=[\n",
    "                (initialize, [root]),\n",
    "            ],\n",
    "            targets=[root / \"readme.md\"])\n",
    "\n",
    "        for i in range(1, 7):\n",
    "            t = root / numerals[i]\n",
    "            yield dict(\n",
    "                name=f\"week{i}\",\n",
    "                actions=[\n",
    "                    (initialize_package, [t]),\n",
    "                ],\n",
    "                targets=[t / \"__init__.py\", t/\"pyproject.toml\"]\n",
    "            )"
   ]
  },
  {
   "cell_type": "markdown",
   "id": "145a859a-4957-4243-8348-0980295079a3",
   "metadata": {},
   "source": [
    "### publishing configuration"
   ]
  },
  {
   "cell_type": "code",
   "execution_count": null,
   "id": "b5da8cf8-5a0b-4888-89a8-a38d6e7dc949",
   "metadata": {},
   "outputs": [],
   "source": [
    "    jb = \"--toc docs/toc.yml --config docs/config.yml\""
   ]
  },
  {
   "cell_type": "code",
   "execution_count": null,
   "id": "497a8017-f01d-4b80-a334-abb29f6b4eeb",
   "metadata": {},
   "outputs": [],
   "source": [
    "    def task_confpy():\n",
    "        return dict(\n",
    "            actions=[f\"jb config sphinx {jb} . > conf.py\"]\n",
    "        )"
   ]
  },
  {
   "cell_type": "code",
   "execution_count": null,
   "id": "8d32835a-5a7f-4961-895a-48245768f747",
   "metadata": {},
   "outputs": [],
   "source": [
    "    def task_docs():\n",
    "        from rich import print\n",
    "        print(Path(\"_build/html/index.html\").absolute().as_uri())\n",
    "        return dict(\n",
    "            actions=[\n",
    "                f\"sphinx-build . _build/html\",\n",
    "            ],\n",
    "            task_dep=[\"confpy\"],\n",
    "            targets=[\"_build/html/index.html\"]\n",
    "        )"
   ]
  }
 ],
 "metadata": {
  "kernelspec": {
   "display_name": "Python 3",
   "language": "python",
   "name": "python3"
  },
  "language_info": {
   "codemirror_mode": {
    "name": "ipython",
    "version": 3
   },
   "file_extension": ".py",
   "mimetype": "text/x-python",
   "name": "python",
   "nbconvert_exporter": "python",
   "pygments_lexer": "ipython3",
   "version": "3.7.7"
  }
 },
 "nbformat": 4,
 "nbformat_minor": 5
}
