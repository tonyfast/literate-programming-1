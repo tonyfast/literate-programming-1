{
 "cells": [
  {
   "cell_type": "markdown",
   "id": "c658521d-e088-4b74-a3cc-0dae9aebf228",
   "metadata": {},
   "source": [
    "# performance\n",
    "\n",
    "> a performance is a gift we give others\n",
    "\n",
    "## prompts\n",
    "\n",
    "* perform/present your work to others\n",
    "* make time for writing 3? more posts\n",
    "* customize your blog"
   ]
  }
 ],
 "metadata": {
  "kernelspec": {
   "display_name": "",
   "name": ""
  },
  "language_info": {
   "name": ""
  }
 },
 "nbformat": 4,
 "nbformat_minor": 5
}
