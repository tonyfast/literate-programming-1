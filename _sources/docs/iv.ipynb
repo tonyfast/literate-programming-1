{
 "cells": [
  {
   "cell_type": "markdown",
   "id": "c45daf60-21b7-4990-aeb0-a93b3210c01d",
   "metadata": {},
   "source": [
    "# publishing\n",
    "\n",
    "> we explore tooling for publishing our works as code and literature."
   ]
  },
  {
   "cell_type": "markdown",
   "id": "e5152d10-063f-4d2b-a081-9fe7fef2e4db",
   "metadata": {},
   "source": [
    "## prompts\n",
    "\n",
    "* bedazzle an old work with new images, links or badges  \n",
    "* bedazzle a binder\n",
    "* build docs on github pages or read the docs"
   ]
  }
 ],
 "metadata": {
  "kernelspec": {
   "display_name": "",
   "name": ""
  },
  "language_info": {
   "name": ""
  }
 },
 "nbformat": 4,
 "nbformat_minor": 5
}
