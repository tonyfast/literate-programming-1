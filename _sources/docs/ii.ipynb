{
 "cells": [
  {
   "cell_type": "markdown",
   "id": "47f9ab64-2168-4454-a663-c01419b4154f",
   "metadata": {},
   "source": [
    "# reading\n",
    "\n",
    "> we focus on combining different forms of media together in narratives."
   ]
  },
  {
   "cell_type": "markdown",
   "id": "a2a1631f-cbaa-4463-83cd-9f9c7057506a",
   "metadata": {},
   "source": [
    "## prompts"
   ]
  },
  {
   "cell_type": "markdown",
   "id": "9c323847-6891-4894-85e8-dbcab626b76e",
   "metadata": {},
   "source": [
    "* write a work with at least two different kinds of media with narrative.\n",
    "\n",
    "  ### examples\n",
    "  \n",
    "  * [all the displays]\n",
    "\n",
    "* write a work using magics\n",
    "\n",
    "  ### examples\n",
    "  \n",
    "  * [all the magics]\n",
    "  \n",
    "* create a collage of a notebook or notebooks using prints or another program like google slides, inkscape, photoshop, inkscape"
   ]
  }
 ],
 "metadata": {
  "kernelspec": {
   "display_name": "",
   "name": ""
  },
  "language_info": {
   "name": ""
  }
 },
 "nbformat": 4,
 "nbformat_minor": 5
}
