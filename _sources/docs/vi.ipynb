{
 "cells": [
  {
   "cell_type": "markdown",
   "id": "96a47513-a966-4746-a597-54a337ba45cc",
   "metadata": {},
   "source": [
    "# readme\n",
    "\n",
    "> we talk about readmes and ourselves"
   ]
  },
  {
   "cell_type": "markdown",
   "id": "da5e167b-43d4-47bd-bab0-4cb0c9d1948b",
   "metadata": {},
   "source": [
    "## prompts\n",
    "\n",
    "* write your github readme profile\n",
    "\n",
    "  in [about me] we discuss the challenges and importance of a writing about yourself. this is why we left it til the _boss_ level.\n",
    "  \n",
    "* write a work that configures your interfaces\n",
    "\n",
    "  ### examples\n",
    "  \n",
    "  * [a case for indenting code]\n",
    "  * [understanding the forms of markdown]\n",
    "\n",
    "* add ci to your github profile\n",
    "\n",
    "  ### examples\n",
    "  \n",
    "  * [simonw]"
   ]
  }
 ],
 "metadata": {
  "kernelspec": {
   "display_name": "",
   "name": ""
  },
  "language_info": {
   "name": ""
  }
 },
 "nbformat": 4,
 "nbformat_minor": 5
}
