{
 "cells": [
  {
   "cell_type": "markdown",
   "id": "12b3460e-a58b-4fe6-98fd-39a2f3462f1e",
   "metadata": {},
   "source": [
    "# writing"
   ]
  },
  {
   "cell_type": "markdown",
   "id": "2d225bb2-2762-473b-b7bb-828f6d6ccaca",
   "metadata": {},
   "source": [
    "this unit focuses on writing with code and narrative together. over the course of this workshop we'll the new affordances provided to us with literate programming syntaxes like markdown and interfaces like `jupyter, nteract or colab`."
   ]
  },
  {
   "cell_type": "markdown",
   "id": "9ceb8314-76af-4bfb-ae1a-9d3cd2171c8f",
   "metadata": {},
   "source": [
    "## background\n",
    "\n",
    "this section includes background, and links, to concepts that help to be familiar with when learning to write literate programs.\n",
    "\n",
    "### markdown syntax\n",
    "\n",
    "for the purposes of this course we all program in markdown. markdown is our programming language. it lets us combine all programming languages into one document.\n",
    "\n",
    "#### widespread adoption\n",
    "\n",
    "> we will discuss the readme at length in this program and this cultural adoption of `readme` markdown files as a convention.\n",
    "\n",
    "### literate programming\n",
    "\n",
    "\n",
    "\n",
    "### computational notebook interfaces\n",
    "\n",
    "### computational notebook formats"
   ]
  },
  {
   "cell_type": "markdown",
   "id": "75ad905c-b66f-49c2-ac20-e951db03c468",
   "metadata": {},
   "source": [
    "## writing things you'll want to read\n",
    "\n",
    "it is hard to know our audience, but we can learn about ourselves. we tasked with creating a work for these programs focus on writing what you may want to read in the future. be your best audience."
   ]
  },
  {
   "cell_type": "markdown",
   "id": "0b43f830-8b65-4932-96e2-78febfeed674",
   "metadata": {},
   "source": [
    "## prompts\n",
    "\n",
    "* write a document containing code and narrative in a notebook or file.\n",
    "\n",
    "  ### examples\n",
    "  \n",
    "  * [sharing documents] on google or github\n",
    "  * [about me]\n",
    "  \n",
    "* share your document as a gist, repo, or colab notebook\n",
    "\n",
    "  ### examples\n",
    "  \n",
    "* begin working on your github readme profile\n",
    "\n",
    "  ### examples\n",
    "  \n",
    "  * [monica]\n",
    "  * [tonyfast]\n",
    "  * [simonw]"
   ]
  }
 ],
 "metadata": {
  "kernelspec": {
   "display_name": "Python 3",
   "language": "python",
   "name": "python3"
  },
  "language_info": {
   "codemirror_mode": {
    "name": "ipython",
    "version": 3
   },
   "file_extension": ".py",
   "mimetype": "text/x-python",
   "name": "python",
   "nbconvert_exporter": "python",
   "pygments_lexer": "ipython3",
   "version": "3.7.7"
  }
 },
 "nbformat": 4,
 "nbformat_minor": 5
}
