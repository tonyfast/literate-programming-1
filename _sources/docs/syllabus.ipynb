{
 "cells": [
  {
   "cell_type": "markdown",
   "id": "1aca2f32-310a-4427-9f52-852e55377859",
   "metadata": {},
   "source": [
    "# syllabus"
   ]
  },
  {
   "cell_type": "markdown",
   "id": "e1d85802-7104-4188-bc26-d6705f2e0213",
   "metadata": {},
   "source": [
    "## II reading\n",
    "\n",
    "> we focus on combining different forms of media together in narratives.\n",
    "\n",
    "* write a work with at least two different kinds of media with narrative.\n",
    "\n",
    "  ### examples\n",
    "  \n",
    "  * [all the displays]\n",
    "\n",
    "* write a work using magics\n",
    "\n",
    "  ### examples\n",
    "  \n",
    "  * [all the magics]\n",
    "  \n",
    "* create a collage of a notebook or notebooks using prints or another program like google slides, inkscape, photoshop, inkscape"
   ]
  },
  {
   "cell_type": "markdown",
   "id": "f7abdb26-a952-4a3f-af8a-0e3ecca82b51",
   "metadata": {},
   "source": [
    "## III testing\n",
    "\n",
    "> we understand best practices for writing code and narrative together to test ideas.\n",
    "\n",
    "* write a work that tests an idea\n",
    "\n",
    "  ### examples\n",
    "  \n",
    "  * [testing in notebooks]\n",
    "  * [restart and run all] or it didn't happen\n",
    "\n",
    "* write a work that import some of your own code\n",
    "\n",
    "  ### examples\n",
    "  \n",
    "  * [discuss a script external to your program]\n",
    "  * [restart and run all] or it didn't happen\n",
    "  * [binder is a publishing tool]\n",
    "  * [ci is a publishing tool]\n",
    "  \n",
    "* create a binder for these works"
   ]
  },
  {
   "cell_type": "markdown",
   "id": "52f5aff5-c258-4ab4-afe8-3475353ec8a9",
   "metadata": {},
   "source": [
    "## IV publishing\n",
    "\n",
    "> we explore tooling for publishing our works as code and literature.\n",
    "\n",
    "* bedazzle an old work with new images, links or badges  \n",
    "* bedazzle a binder\n",
    "* build docs on github pages or read the docs"
   ]
  },
  {
   "cell_type": "markdown",
   "id": "815806db-badd-4ae3-96d5-a8f6331fc615",
   "metadata": {},
   "source": [
    "## V styling\n",
    "\n",
    "> we explore choices and considerations for adding style to our works\n",
    "\n",
    "* write a work on an aspect writing with code and narrative\n",
    "* present a work that has movement or interaction as a web page\n",
    "* present a work that has movement or interaction on binder"
   ]
  },
  {
   "cell_type": "markdown",
   "id": "ebc091cc-7280-4463-88e2-f50f70db77dc",
   "metadata": {},
   "source": [
    "## VI readme\n",
    "\n",
    "> we talk about readmes and ourselves\n",
    "\n",
    "* write your github readme profile\n",
    "\n",
    "  in [about me] we discuss the challenges and importance of a writing about yourself. this is why we left it til the _boss_ level.\n",
    "  \n",
    "* write a work that configures your interfaces\n",
    "\n",
    "  ### examples\n",
    "  \n",
    "  * [a case for indenting code]\n",
    "  * [understanding the forms of markdown]\n",
    "\n",
    "* add ci to your github profile\n",
    "\n",
    "  ### examples\n",
    "  \n",
    "  * [simonw]"
   ]
  },
  {
   "cell_type": "markdown",
   "id": "f150b84b-df22-4329-b332-dd3c4875683a",
   "metadata": {},
   "source": [
    "## VII performance\n",
    "\n",
    "> a performance is a gift we give others\n",
    "\n",
    "* perform/present your work to others\n",
    "* make time for writing 3? more posts\n",
    "* customize your blog"
   ]
  },
  {
   "cell_type": "code",
   "execution_count": null,
   "id": "db4add36-7467-4a24-a91e-6cd993260e8e",
   "metadata": {},
   "outputs": [],
   "source": []
  }
 ],
 "metadata": {
  "kernelspec": {
   "display_name": "Python 3",
   "language": "python",
   "name": "python3"
  },
  "language_info": {
   "codemirror_mode": {
    "name": "ipython",
    "version": 3
   },
   "file_extension": ".py",
   "mimetype": "text/x-python",
   "name": "python",
   "nbconvert_exporter": "python",
   "pygments_lexer": "ipython3",
   "version": "3.7.7"
  }
 },
 "nbformat": 4,
 "nbformat_minor": 5
}
