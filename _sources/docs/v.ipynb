{
 "cells": [
  {
   "cell_type": "markdown",
   "id": "a5b08217-be6a-4b0b-836a-f649afd7ac83",
   "metadata": {},
   "source": [
    "# styling\n",
    "\n",
    "> we explore choices and considerations for adding style to our works"
   ]
  },
  {
   "cell_type": "markdown",
   "id": "94ca5157-4c5e-4085-8245-58d562e87391",
   "metadata": {},
   "source": [
    "## prompts\n",
    "\n",
    "* write a work on an aspect writing with code and narrative\n",
    "* present a work that has movement or interaction as a web page\n",
    "* present a work that has movement or interaction on binder"
   ]
  }
 ],
 "metadata": {
  "kernelspec": {
   "display_name": "Python 3",
   "language": "python",
   "name": "python3"
  },
  "language_info": {
   "codemirror_mode": {
    "name": "ipython",
    "version": 3
   },
   "file_extension": ".py",
   "mimetype": "text/x-python",
   "name": "python",
   "nbconvert_exporter": "python",
   "pygments_lexer": "ipython3",
   "version": "3.7.7"
  }
 },
 "nbformat": 4,
 "nbformat_minor": 5
}
