{
 "cells": [
  {
   "cell_type": "markdown",
   "id": "e4ed7877-e73d-40be-b565-18755c006a2b",
   "metadata": {},
   "source": [
    "# testing"
   ]
  },
  {
   "cell_type": "markdown",
   "id": "be97a419-aac5-480a-8847-1d91af1147fa",
   "metadata": {},
   "source": [
    "> we understand best practices for writing code and narrative together to test ideas."
   ]
  },
  {
   "cell_type": "markdown",
   "id": "8d26d0b6-07f6-4237-abdf-c65f2fac49ef",
   "metadata": {},
   "source": [
    "## prompts\n",
    "\n",
    "* write a work that tests an idea\n",
    "\n",
    "  ### examples\n",
    "  \n",
    "  * [testing in notebooks]\n",
    "  * [restart and run all] or it didn't happen\n",
    "\n",
    "* write a work that import some of your own code\n",
    "\n",
    "  ### examples\n",
    "  \n",
    "  * [discuss a script external to your program]\n",
    "  * [restart and run all] or it didn't happen\n",
    "  * [binder is a publishing tool]\n",
    "  * [ci is a publishing tool]\n",
    "  \n",
    "* create a binder for these works"
   ]
  }
 ],
 "metadata": {
  "kernelspec": {
   "display_name": "",
   "name": ""
  },
  "language_info": {
   "name": ""
  }
 },
 "nbformat": 4,
 "nbformat_minor": 5
}
